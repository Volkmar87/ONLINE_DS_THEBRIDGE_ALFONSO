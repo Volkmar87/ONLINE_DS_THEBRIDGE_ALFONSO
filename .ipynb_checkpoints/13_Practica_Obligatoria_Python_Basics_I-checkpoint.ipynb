{
 "cells": [
  {
   "cell_type": "markdown",
   "metadata": {
    "id": "BNCAebJANPxq"
   },
   "source": [
    "![TheBridge_logo_RGB_color.jpg](attachment:TheBridge_logo_RGB_color.jpg)"
   ]
  },
  {
   "cell_type": "markdown",
   "metadata": {
    "id": "A9eDZvZaNPxs"
   },
   "source": [
    "![imagen](./img/ejercicios.png)"
   ]
  },
  {
   "cell_type": "markdown",
   "metadata": {
    "id": "59zPhBxXNPxs"
   },
   "source": [
    "## PRACTICA OBLIGATORIA: PYTHON"
   ]
  },
  {
   "cell_type": "markdown",
   "metadata": {
    "id": "mv2kb1GMNPxs"
   },
   "source": [
    "* La práctica obligatoria de esta unidad consiste en dos ejercicios de programación libre a completar.   \n",
    "* Recuerda que debes subirla a tu repositorio personal antes de la sesión en vivo para que puntúe adecuadamente.  \n",
    "* Recuerda también que no es necesario que esté perfecta, sólo es necesario que se vea el esfuerzo.\n",
    "* Esta práctica se resolverá en la sesión en vivo correspondiente y la solución se publicará en el repo del curso."
   ]
  },
  {
   "cell_type": "markdown",
   "metadata": {
    "id": "Kl9JzST2NPxt"
   },
   "source": [
    "![ejercicio.png](./img/ejercicio.png)\n",
    "## PARTE I\n",
    "\n",
    "En este ejercicio debes simular un chatbot al que le haremos pedidos de pizzas.\n",
    "\n",
    "1. El chatbot tiene que saludar con un: \"Buenas tardes, bienvenido al servicio de pedido online, el precio de nuestra pizzas es de 8,95 para la familiar o de 9,90 para la mediana ¿Cuántas pizzas  familiares desea?\"\n",
    "2. El ususario tiene que introducir un número de pizzas en una variable llamada 'pizz_familiar'\n",
    "3. El chatbot debe responder: \"Estupendo, ¿cuántas pizzas medianas desea?\" y guardar el número de pizzas medianas en otra variable 'pizz_mediana'\n",
    "4. Además debe responder del chatbot: \"Estupendo, se están preparando 'pizz' pizzas familiares y 'pizz_mediana' pizzas medianas. Digame su dirección\"\n",
    "5. El ususario tiene que introducir una direccion en formato String en otra variable llamada 'direcc'\n",
    "6. El programa debe calcular el monto total\n",
    "7. Respuesta final del chatbot: \"Le mandaremos las '(número total de pizzas)' pizzas a la dirección 'direcc'. Serán <precio total a pagar en euros>. Muchas gracias por su pedido.\"\n",
    "         \n"
   ]
  },
  {
   "cell_type": "code",
   "execution_count": 1,
   "metadata": {
    "id": "qkKibyt-NPxt"
   },
   "outputs": [
    {
     "name": "stdin",
     "output_type": "stream",
     "text": [
      "Buenas tardes, bienvenido al servicio de pedido online, el precio de nuestras pizzas es 8,95 para la familiar o de 9,90 para la mediana, ¿Cuantas pizzas familiares desea? 2\n",
      "Estupendo, ¿cuantas pizzas medianas desea? 3\n"
     ]
    },
    {
     "ename": "TypeError",
     "evalue": "Kernel.raw_input() takes from 1 to 2 positional arguments but 6 were given",
     "output_type": "error",
     "traceback": [
      "\u001b[1;31m---------------------------------------------------------------------------\u001b[0m",
      "\u001b[1;31mTypeError\u001b[0m                                 Traceback (most recent call last)",
      "Cell \u001b[1;32mIn[1], line 3\u001b[0m\n\u001b[0;32m      1\u001b[0m pizz_familiar \u001b[38;5;241m=\u001b[39m \u001b[38;5;28minput\u001b[39m(\u001b[38;5;124m\"\u001b[39m\u001b[38;5;124mBuenas tardes, bienvenido al servicio de pedido online, el precio de nuestras pizzas es 8,95 para la familiar o de 9,90 para la mediana, ¿Cuantas pizzas familiares desea?\u001b[39m\u001b[38;5;124m\"\u001b[39m)\n\u001b[0;32m      2\u001b[0m pizz_mediana \u001b[38;5;241m=\u001b[39m \u001b[38;5;28minput\u001b[39m(\u001b[38;5;124m\"\u001b[39m\u001b[38;5;124mEstupendo, ¿cuantas pizzas medianas desea?\u001b[39m\u001b[38;5;124m\"\u001b[39m)\n\u001b[1;32m----> 3\u001b[0m direcc \u001b[38;5;241m=\u001b[39m \u001b[38;5;28;43minput\u001b[39;49m\u001b[43m(\u001b[49m\u001b[38;5;124;43m\"\u001b[39;49m\u001b[38;5;124;43mEstupendo, se estan preparando\u001b[39;49m\u001b[38;5;124;43m\"\u001b[39;49m\u001b[43m,\u001b[49m\u001b[43m \u001b[49m\u001b[43mpizz_familiar\u001b[49m\u001b[43m,\u001b[49m\u001b[43m \u001b[49m\u001b[38;5;124;43m\"\u001b[39;49m\u001b[38;5;124;43mpizzas familiares y \u001b[39;49m\u001b[38;5;124;43m\"\u001b[39;49m\u001b[43m,\u001b[49m\u001b[43m \u001b[49m\u001b[43mpizz_mediana\u001b[49m\u001b[43m,\u001b[49m\u001b[43m \u001b[49m\u001b[38;5;124;43m\"\u001b[39;49m\u001b[38;5;124;43mpizzas medianas. Digame su direccion\u001b[39;49m\u001b[38;5;124;43m\"\u001b[39;49m\u001b[43m)\u001b[49m\n\u001b[0;32m      4\u001b[0m monto \u001b[38;5;241m=\u001b[39m \u001b[38;5;28mint\u001b[39m(pizz_familiar) \u001b[38;5;241m*\u001b[39m \u001b[38;5;241m8.95\u001b[39m \u001b[38;5;241m+\u001b[39m \u001b[38;5;28mint\u001b[39m(pizz_mediana) \u001b[38;5;241m*\u001b[39m \u001b[38;5;241m9.90\u001b[39m\n\u001b[0;32m      5\u001b[0m \u001b[38;5;28mprint\u001b[39m(\u001b[38;5;124m\"\u001b[39m\u001b[38;5;124mLe mandaremos las\u001b[39m\u001b[38;5;124m\"\u001b[39m, \u001b[38;5;28mint\u001b[39m(pizz_familiar) \u001b[38;5;241m+\u001b[39m \u001b[38;5;28mint\u001b[39m(pizz_mediana), \u001b[38;5;124m\"\u001b[39m\u001b[38;5;124mpizzas a la direccion:\u001b[39m\u001b[38;5;124m\"\u001b[39m, direcc, \u001b[38;5;124m\"\u001b[39m\u001b[38;5;124mSeran\u001b[39m\u001b[38;5;124m\"\u001b[39m, monto, \u001b[38;5;124m\"\u001b[39m\u001b[38;5;124mMuchas gracias por su pedido\u001b[39m\u001b[38;5;124m\"\u001b[39m)\n",
      "\u001b[1;31mTypeError\u001b[0m: Kernel.raw_input() takes from 1 to 2 positional arguments but 6 were given"
     ]
    }
   ],
   "source": [
    "# Aqui me equivoque pero no quise borrarlo por si se puede revisar\n",
    "pizz_familiar = input(\"Buenas tardes, bienvenido al servicio de pedido online, el precio de nuestras pizzas es 8,95 para la familiar o de 9,90 para la mediana, ¿Cuantas pizzas familiares desea?\")\n",
    "pizz_mediana = input(\"Estupendo, ¿cuantas pizzas medianas desea?\")\n",
    "direcc = input(\"Estupendo, se estan preparando\", pizz_familiar, \"pizzas familiares y \", pizz_mediana, \"pizzas medianas. Digame su direccion\")\n",
    "monto = int(pizz_familiar) * 8.95 + int(pizz_mediana) * 9.90\n",
    "print(\"Le mandaremos las\", int(pizz_familiar) + int(pizz_mediana), \"pizzas a la direccion:\", direcc, \"Seran\", monto, \"Muchas gracias por su pedido\")\n",
    "                  "
   ]
  },
  {
   "cell_type": "code",
   "execution_count": 3,
   "metadata": {},
   "outputs": [
    {
     "name": "stdin",
     "output_type": "stream",
     "text": [
      "Buenas tardes, bienvenido al servicio de pedido online, el precio de nuestras pizzas es 8,95 para la familiar o de 9,90 para la mediana, ¿Cuantas pizzas familiares desea? 2\n",
      "Estupendo, ¿cuantas pizzas medianas desea? 3\n"
     ]
    },
    {
     "name": "stdout",
     "output_type": "stream",
     "text": [
      "Estupendo, se estan preparando 2 pizzas familiares y  3 pizzas medianas\n"
     ]
    },
    {
     "name": "stdin",
     "output_type": "stream",
     "text": [
      "Digame su direccion Calle Alonso cano 25\n"
     ]
    },
    {
     "name": "stdout",
     "output_type": "stream",
     "text": [
      "Le mandaremos las 5 pizzas a la direccion: Calle Alonso cano 25 Seran 47.6 Muchas gracias por su pedido\n"
     ]
    }
   ],
   "source": [
    "pizz_familiar = input(\"Buenas tardes, bienvenido al servicio de pedido online, el precio de nuestras pizzas es 8,95 para la familiar o de 9,90 para la mediana, ¿Cuantas pizzas familiares desea?\")\n",
    "pizz_mediana = input(\"Estupendo, ¿cuantas pizzas medianas desea?\")\n",
    "print(\"Estupendo, se estan preparando\", pizz_familiar, \"pizzas familiares y \", pizz_mediana, \"pizzas medianas\")\n",
    "direcc = input(\"Digame su direccion\")\n",
    "monto = int(pizz_familiar) * 8.95 + int(pizz_mediana) * 9.90\n",
    "print(\"Le mandaremos las\", int(pizz_familiar) + int(pizz_mediana), \"pizzas a la direccion:\", direcc, \"Seran\", monto, \"Muchas gracias por su pedido\")\n",
    "                  "
   ]
  },
  {
   "cell_type": "markdown",
   "metadata": {
    "id": "f0oqoGDGNPxt"
   },
   "source": [
    "![ejercicio.png](./img/ejercicio.png)\n",
    "## Parte II\n",
    "\n",
    "Crea un programa que realice las siguientes acciones:\n",
    "\n",
    "1. Solicite al usuario que introduzca 3 números enteros separados por comas (por ejemplo: 1,2,3).\n",
    "2. Convierta esa entrada en una lista de números enteros.\n",
    "3. Utilizando funciones built-in, determine el número máximo, el número mínimo y la suma total de los números introducidos.\n",
    "4. Determine la verdad o falsedad de la siguiente afirmación: \"El número máximo menos el número mínimo es igual a la suma total dividida por 5\".\n",
    "5. Muestre los resultados utilizando print."
   ]
  },
  {
   "cell_type": "code",
   "execution_count": 10,
   "metadata": {
    "id": "rAlpWiQ9NPxt"
   },
   "outputs": [
    {
     "name": "stdin",
     "output_type": "stream",
     "text": [
      "Saludos humano, introduzca 3 numeros enteros separados por comas 1,3,5\n"
     ]
    },
    {
     "ename": "TypeError",
     "evalue": "int() argument must be a string, a bytes-like object or a real number, not 'types.GenericAlias'",
     "output_type": "error",
     "traceback": [
      "\u001b[1;31m---------------------------------------------------------------------------\u001b[0m",
      "\u001b[1;31mTypeError\u001b[0m                                 Traceback (most recent call last)",
      "Cell \u001b[1;32mIn[10], line 3\u001b[0m\n\u001b[0;32m      1\u001b[0m numeros \u001b[38;5;241m=\u001b[39m \u001b[38;5;28minput\u001b[39m(\u001b[38;5;124m\"\u001b[39m\u001b[38;5;124mSaludos humano, introduzca 3 numeros enteros separados por comas\u001b[39m\u001b[38;5;124m\"\u001b[39m)\n\u001b[0;32m      2\u001b[0m lista \u001b[38;5;241m=\u001b[39m \u001b[38;5;28mlist\u001b[39m[numeros]\n\u001b[1;32m----> 3\u001b[0m \u001b[38;5;28mprint\u001b[39m((\u001b[38;5;28;43mint\u001b[39;49m\u001b[43m(\u001b[49m\u001b[43mlista\u001b[49m\u001b[43m)\u001b[49m))\n\u001b[0;32m      4\u001b[0m \u001b[38;5;28mprint\u001b[39m(\u001b[38;5;28mtype\u001b[39m(lista))\n",
      "\u001b[1;31mTypeError\u001b[0m: int() argument must be a string, a bytes-like object or a real number, not 'types.GenericAlias'"
     ]
    }
   ],
   "source": [
    "numeros = input(\"Saludos humano, introduzca 3 numeros enteros separados por comas\")\n",
    "lista = list[numeros]\n"
   ]
  },
  {
   "cell_type": "code",
   "execution_count": null,
   "metadata": {},
   "outputs": [],
   "source": []
  }
 ],
 "metadata": {
  "colab": {
   "provenance": []
  },
  "kernelspec": {
   "display_name": "Python 3 (ipykernel)",
   "language": "python",
   "name": "python3"
  },
  "language_info": {
   "codemirror_mode": {
    "name": "ipython",
    "version": 3
   },
   "file_extension": ".py",
   "mimetype": "text/x-python",
   "name": "python",
   "nbconvert_exporter": "python",
   "pygments_lexer": "ipython3",
   "version": "3.11.7"
  }
 },
 "nbformat": 4,
 "nbformat_minor": 4
}
