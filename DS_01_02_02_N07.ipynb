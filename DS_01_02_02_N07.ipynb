{
 "cells": [
  {
   "cell_type": "markdown",
   "metadata": {
    "id": "vigJnuAMSU4x"
   },
   "source": [
    "![TheBridge_logo_RGB_color.jpg](attachment:TheBridge_logo_RGB_color.jpg)"
   ]
  },
  {
   "cell_type": "markdown",
   "metadata": {
    "id": "2xmnwM17SU4y"
   },
   "source": [
    "![ejercicios.png](attachment:ejercicios.png)"
   ]
  },
  {
   "cell_type": "markdown",
   "metadata": {
    "id": "liorA-1ZSU4y"
   },
   "source": [
    "# Ejercicios Clases y Objetos"
   ]
  },
  {
   "cell_type": "markdown",
   "metadata": {
    "id": "5xXUz5l9SU4z"
   },
   "source": [
    "## Ejercicio 1\n",
    "Somos una empresa que tiene varias tiendas de electrodomesticos. Necesitamos un programa para manejar las tiendas, ver las ventas que han tenido, cuántos empleados hay, etc... Para ello vamos a modelizar la tienda en una clase, que tendrá las siguientes características:\n",
    "* Nombre clase: \"Tienda\"\n",
    "* Atributos comunes:\n",
    "    * Tipo: \"Electrodomésticos\"\n",
    "    * Abierta: True\n",
    "* Atributos propios de cada tienda:\n",
    "    * Nombre - String\n",
    "    * Dirección - String\n",
    "    * Número de empleados - int\n",
    "    * Ventas ultimos 3 meses - Lista de 3 numeros\n",
    "* Método para calcular las ventas de todos los meses, que devuelva un numero con todas las ventas.\n",
    "* Método que calcula la media de ventas de los ultimos meses, por empleado\n",
    "* Método que devuelve en un string el nombre de la tienda, junto con su dirección.\n",
    "* Método que obtiene las ventas del último mes.\n",
    "* Método para dar una proyección de las ventas en caso de haber invertido X dinero en marketing en esa tienda. Siendo X el parámetro de entrada. Si X es menor de 1000, las ventas de los ultimos 3 meses hubiesen sido de (1.2 x ventas), si es mayor o igual de 1000, las ventas hubiesen sido de (1.5 x venta). El método reescribe el atributo de ventas en los últimos 3 meses, y además devuelve las ventas con el aumento.\n",
    "\n",
    "Se pide:\n",
    "1. Implementar la clase \"Tienda\"\n",
    "2. Crear tres tiendas con datos inventados\n",
    "3. Comprueba en al menos una de ellas, todo lo implementado en la clase tienda (sus atributos, media de ventas, ventas/empleado...)\n",
    "3. Calcular las ventas del último mes de todas las tiendas. Para ello usa el bucle `for`\n",
    "4. Imprime por pantalla los nombres de las tiendas cuya dirección lleve el string \"Avenida\"\n",
    "5. Seguro que ya has hecho este apartado... Documenta la clase :)"
   ]
  },
  {
   "cell_type": "code",
   "execution_count": 9,
   "metadata": {
    "id": "5cLQcLxfSU4z"
   },
   "outputs": [
    {
     "name": "stdout",
     "output_type": "stream",
     "text": [
      "Tienda 1 - Mediamarkt\n",
      "Nombre y direccion: Mediamarkt, Paseo de la castellana 180\n",
      "Total de ventas 495000\n",
      "Media de ventas por empleado: 19800.0\n",
      "Ventas ultimo mes: 165000\n",
      "\n",
      "Ventas del ultimo mes de todas las tiendas:\n",
      "Mediamarkt: 165000\n",
      "El Corte Ingles: 110000\n",
      "Worten: 75000\n",
      "\n",
      "Nombres de tiendas que esten en alguna avenida:\n",
      "Ninguna tienda esta en alguna Avenida\n",
      "Ninguna tienda esta en alguna Avenida\n",
      "Ninguna tienda esta en alguna Avenida\n"
     ]
    }
   ],
   "source": [
    "class Tienda:\n",
    "    tipo = \"Electrodomesticos\"\n",
    "    abierta = True\n",
    "\n",
    "    def __init__(self, nombre, direccion, num_empleados, vent_ult_3meses):\n",
    "        self.nombre = nombre\n",
    "        self.direccion = direccion\n",
    "        self.num_empleados = num_empleados\n",
    "        self.vent_ult_3meses = vent_ult_3meses\n",
    "\n",
    "    def calcular_suma_ventas(self):\n",
    "        return sum(self.vent_ult_3meses)\n",
    "\n",
    "    def calcular_med_por_empleado(self):\n",
    "        return sum(self.vent_ult_3meses) / self.num_empleados\n",
    "\n",
    "    def obtener_nombre_direccion(self):\n",
    "        return f\"{self.nombre}, {self.direccion}\"\n",
    "\n",
    "    def ventas_ultimo_mes(self):\n",
    "        return self.vent_ult_3meses[-1]\n",
    "\n",
    "tienda1 = Tienda(\"Mediamarkt\", \"Paseo de la castellana 180\", 25, [150000, 180000, 165000])\n",
    "tienda2 = Tienda(\"El Corte Ingles\", \"Calle Goya\", 30, [ 120000, 100000, 110000])\n",
    "tienda3 = Tienda(\"Worten\", \"Alcorcon\", 10, [ 50000, 48000, 75000])\n",
    "\n",
    "print(\"Tienda 1 -\" , tienda1.nombre)\n",
    "print(\"Nombre y direccion:\", tienda1.obtener_nombre_direccion())\n",
    "print(\"Total de ventas\", tienda1.calcular_suma_ventas())\n",
    "print(\"Media de ventas por empleado:\", tienda1.calcular_med_por_empleado())\n",
    "print(\"Ventas ultimo mes:\", tienda1.ventas_ultimo_mes())\n",
    "\n",
    "print(\"\\nVentas del ultimo mes de todas las tiendas:\")\n",
    "for tienda in[tienda1, tienda2, tienda3]:\n",
    "    print(f\"{tienda.nombre}: {tienda.ventas_ultimo_mes()}\")\n",
    "\n",
    "print(\"\\nNombres de tiendas que esten en alguna avenida:\")\n",
    "for tienda in[tienda1, tienda2, tienda3]:\n",
    "    if \"Avenida\" in tienda.direccion:\n",
    "        print(tienda.nombre)\n",
    "    else: \n",
    "        print(\"Ninguna tienda esta en alguna Avenida\")\n",
    "\n"
   ]
  },
  {
   "cell_type": "markdown",
   "metadata": {
    "id": "WEBq7EpsSU40"
   },
   "source": [
    "## Ejercicio 2\n",
    "En este ejercicio vamos a implementar una clase *Perro* en Python. La clase tiene las siguientes características:\n",
    "* Cosas que sabemos seguro que tiene un perro\n",
    "    * Tiene 4 patas\n",
    "    * 2 orejas\n",
    "    * 2 ojos\n",
    "    * Una velocidad de 0. Por defecto, el perro está parado\n",
    "* Cuando se inicialice:\n",
    "    * El perro será de una determinada raza\n",
    "    * Por defecto tendrá pelo \"Marrón\", a no ser que se diga lo contrario.\n",
    "    * Por defecto no tendrá dueño, a no ser que se diga lo contrario.\n",
    "    \n",
    "* Dispondrá también de un método llamado andar, que tiene un argumento de entrada (aumento_velocidad). Este valor se le sumará a la velocidad que ya llevaba el perro.\n",
    "* Necesita otro método (parar), donde pondremos la velocidad a 0.\n",
    "* Otro método llamado \"ladrar\", que tendrá un argumento de entrada, y la salida será el siguiente string: \"GUAU!\" + el argumento de entrada.\n",
    "\n",
    "\n",
    "Se pide:\n",
    "* Implementa la clase *Perro*\n",
    "* Crea un objeto de tipo *Perro*, sin dueño\n",
    "* Comprueba que están bien todos sus atributos\n",
    "* Prueba que ande, y comprueba su velocidad\n",
    "* Páralo\n",
    "* Documenta la clase *Perro*"
   ]
  },
  {
   "cell_type": "code",
   "execution_count": 28,
   "metadata": {
    "id": "DpEWvbwGSU40"
   },
   "outputs": [
    {
     "ename": "SyntaxError",
     "evalue": "invalid syntax (4209574070.py, line 22)",
     "output_type": "error",
     "traceback": [
      "\u001b[1;36m  Cell \u001b[1;32mIn[28], line 22\u001b[1;36m\u001b[0m\n\u001b[1;33m    print(\"Mi perro es de raza\" , perro1.raza,\"y es de color\" ,perro1.color, if duegno = False print(\"y no tiene dueño\", else print(Tiene dueño))\u001b[0m\n\u001b[1;37m                                                                             ^\u001b[0m\n\u001b[1;31mSyntaxError\u001b[0m\u001b[1;31m:\u001b[0m invalid syntax\n"
     ]
    }
   ],
   "source": [
    "class Perro:\n",
    "    patas = 4\n",
    "    orejas = 2\n",
    "    ojos = 2\n",
    "    \n",
    "    def __init__(self, raza_perro , color_perro = \"Marron\", tiene_duegno = False):\n",
    "        self.raza = raza_perro\n",
    "        self.color = color_perro\n",
    "        self.duegno = tiene_duegno\n",
    "        self.velocidad = 0\n",
    "\n",
    "    def andar(self, aumento_velocidad):\n",
    "        self.velocidad += aumento_velocidad\n",
    "\n",
    "    def parar(self):\n",
    "        self.velocidad = 0\n",
    "        \n",
    "perro1= Perro(raza_perro=\"labrador\")\n",
    "perro2= Perro(raza_perro=\"Whestie\",color_perro = \"Blanco\")\n",
    "\n",
    "print(\"Mi perro es de raza\" , perro1.raza)\n",
    "print(\"Mi perro es de raza\" , perro1.raza,\"y es de color\" ,perro1.color)\n",
    "print(\"Mi perro es de raza\" , perro2.raza,\"y es de color\" ,perro2.color)\n",
    "\n"
   ]
  },
  {
   "cell_type": "code",
   "execution_count": null,
   "metadata": {},
   "outputs": [],
   "source": []
  }
 ],
 "metadata": {
  "colab": {
   "provenance": []
  },
  "kernelspec": {
   "display_name": "Python 3 (ipykernel)",
   "language": "python",
   "name": "python3"
  },
  "language_info": {
   "codemirror_mode": {
    "name": "ipython",
    "version": 3
   },
   "file_extension": ".py",
   "mimetype": "text/x-python",
   "name": "python",
   "nbconvert_exporter": "python",
   "pygments_lexer": "ipython3",
   "version": "3.11.7"
  }
 },
 "nbformat": 4,
 "nbformat_minor": 4
}
